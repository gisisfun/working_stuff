{
 "cells": [
  {
   "cell_type": "markdown",
   "id": "empirical-architecture",
   "metadata": {},
   "source": [
    "https://itnext.io/effortlessly-create-classes-in-python-with-dataclass-19412eada8be\n",
    "\n",
    "## Effortlessly Create Classes in Python with @dataclass\n",
    "\n",
    "In Python, the @dataclass decorator simplifies the process of creating classes by automatically adding common methods and promoting best practices to write well-written and safe code. It is available from Python 3.7. In this article, I will tell you all about this decorator.\n",
    "\n",
    "Let’s start with a simple example:"
   ]
  },
  {
   "cell_type": "code",
   "execution_count": null,
   "id": "hungarian-reasoning",
   "metadata": {},
   "outputs": [],
   "source": [
    "from dataclasses import dataclass\n",
    "\n",
    "@dataclass\n",
    "class MyDataClass:\n",
    "    a: str # will become arg in __init__\n",
    "    b: int = 0 # will become kwarg in __init__\n",
    "    \n",
    "dataobj = MyDataClass(\"hello\")\n",
    "print(dataobj.a, dataobj.b)\n",
    "# => hello 0\n",
    "\n",
    "# error, a not specified\n",
    "MyDataClass()\n",
    "# => TypeError: __init__() missing 1 required positional argument: 'a'"
   ]
  },
  {
   "cell_type": "markdown",
   "id": "naked-lighting",
   "metadata": {},
   "source": [
    "By defining two static variables with type hints and adding the @dataclass decorator, we obtain a class with an `__init__` method corresponding to the following:"
   ]
  },
  {
   "cell_type": "code",
   "execution_count": null,
   "id": "amended-adult",
   "metadata": {},
   "outputs": [],
   "source": [
    "def __init__(self, a: str, b: int = 0):\n",
    "    self.a = a\n",
    "    self.b = b"
   ]
  },
  {
   "cell_type": "markdown",
   "id": "brown-screw",
   "metadata": {},
   "source": [
    "While skipping the` __init__`-method is nice, the dataclass offers a lot more than only that. To understand what, let’s have a look at the options available for the decorator:"
   ]
  },
  {
   "cell_type": "code",
   "execution_count": null,
   "id": "suspended-serial",
   "metadata": {},
   "outputs": [],
   "source": [
    "@dataclass(\n",
    "    *, \n",
    "    init=True, \n",
    "    repr=True, \n",
    "    eq=True, \n",
    "    order=False, \n",
    "    unsafe_hash=False, \n",
    "    frozen=False,\n",
    "    ...\n",
    ")"
   ]
  },
  {
   "cell_type": "markdown",
   "id": "close-display",
   "metadata": {},
   "source": [
    "I’ve omitted some of the arguments and kept those that I think are most important to discuss. Note that using:"
   ]
  },
  {
   "cell_type": "code",
   "execution_count": null,
   "id": "twelve-valuable",
   "metadata": {},
   "outputs": [],
   "source": [
    "@dataclass\n",
    "class MyDataClass:\n",
    "    pass\n",
    "    \n",
    "@dataclass()\n",
    "class MyDataClass:\n",
    "    pass"
   ]
  },
  {
   "cell_type": "markdown",
   "id": "minute-demographic",
   "metadata": {},
   "source": [
    "will equivalently result in the default arguments being used.\n",
    "\n",
    "As can be seen, depending on the arguments, methods will be added implicitly to the class. By default:\n",
    "\n",
    " - `init=True` will add `__init__` as we saw above\n",
    " - `repr=True` will add `__repr__`, i.e. what is shown when printing\n",
    " - `eq=True` will add `__eq__` based on fields\n",
    " - `order=True` will add `__lt__()`, `__le__()`, `__gt__()`, and `__ge__()`\n",
    "Additionally, `frozen` and `unsafe_hash` are two important parameters that make the developer more aware of their actions and enforce constraints.\n",
    "\n",
    "Note, that you can of course also define other custom class methods as you normally would in a class. Below I define a simple class without the @dataclass decorator for comparison."
   ]
  },
  {
   "cell_type": "code",
   "execution_count": null,
   "id": "hollow-essay",
   "metadata": {},
   "outputs": [],
   "source": [
    "class MyNormalClass:\n",
    "    def __init__(self, a: str, b: int = 0):\n",
    "        self.a = a\n",
    "        self.b = b\n",
    "        \n",
    "obj = MyNormalClass(\"hello\")"
   ]
  },
  {
   "cell_type": "markdown",
   "id": "magnetic-quebec",
   "metadata": {},
   "source": [
    "## Printing\n",
    "With `repr=True`, which is set by default, the output when printing is changed. Let’s compare what the object made with the data class and the object made with the normal class (without `__repr__`) are showing when printed:"
   ]
  },
  {
   "cell_type": "code",
   "execution_count": null,
   "id": "synthetic-appeal",
   "metadata": {},
   "outputs": [],
   "source": [
    "print(obj)\n",
    "# => <__main__.MyNormalClass object at 0x105aa1190>\n",
    "print(dataobj)\n",
    "# => MyDataClass(a='hello', b=0)"
   ]
  },
  {
   "cell_type": "markdown",
   "id": "fresh-bridges",
   "metadata": {},
   "source": [
    "As can be seen with the normal class, the printed information tells us very little about the object by default. On the other hand, the dataclass shows the values of the object succinctly, having overridden the default `__repr__`-method.\n",
    "\n",
    "## Equality\n",
    "The default behavior of equality for custom classes can be confusing. If you compare a custom class without a defined `__eq__`-method, two objects will only be equal if they are the exact same object:"
   ]
  },
  {
   "cell_type": "code",
   "execution_count": null,
   "id": "fluid-letter",
   "metadata": {},
   "outputs": [],
   "source": [
    "# exact same object\n",
    "print(obj == obj)\n",
    "# => True\n",
    "\n",
    "# a new object with identical values\n",
    "obj2 = MyNormalClass(\"hello\")\n",
    "print(obj == obj2)\n",
    "# => False"
   ]
  },
  {
   "cell_type": "markdown",
   "id": "powerful-brand",
   "metadata": {},
   "source": [
    "Thus, the values of the attributes don’t matter. But by using the dataclass and eq=True (set by default) the more expected form of equality is added where the attributes are compared (i.e. `__eq__` is overridden):"
   ]
  },
  {
   "cell_type": "code",
   "execution_count": null,
   "id": "spectacular-paper",
   "metadata": {},
   "outputs": [],
   "source": [
    "# same arguments as before\n",
    "dataobj2 = MyDataClass(\"hello\")\n",
    "print(dataobj == dataobj2)\n",
    "# => True"
   ]
  },
  {
   "cell_type": "markdown",
   "id": "metallic-bracelet",
   "metadata": {},
   "source": [
    "## Order\n",
    "By setting the order parameter to true (false by default) and eq to true (`other=True` and `eq=False` will cause an error to be thrown) the methods:\n",
    "\n",
    " - `__lt__()`\n",
    " - `__le__()`\n",
    " - `__gt__()`\n",
    " - `__ge__()`\n",
    "\n",
    "Will be automatically added to the class. They work by using the order of the defined fields and using the same formula as tuples are compared, i.e. comparing each field in order:"
   ]
  },
  {
   "cell_type": "code",
   "execution_count": null,
   "id": "thick-norway",
   "metadata": {},
   "outputs": [],
   "source": [
    "from dataclasses import dataclass\n",
    "\n",
    "@dataclass(order=True)\n",
    "class MyDataClass:\n",
    "    a: int\n",
    "    b: int\n",
    "\n",
    "dataobj1 = MyDataClass(a=1, b=1)\n",
    "dataobj2 = MyDataClass(a=2, b=1)\n",
    "dataobj3 = MyDataClass(a=1, b=2)\n",
    "dataobj4 = MyDataClass(a=0, b=1)\n",
    "\n",
    "assert dataobj2 > dataobj1 and dataobj1 < dataobj2\n",
    "assert dataobj2 > dataobj3 and dataobj3 < dataobj2\n",
    "assert dataobj1 > dataobj4 and dataobj4 < dataobj1\n",
    "assert dataobj3 > dataobj1 and dataobj1 < dataobj3\n",
    "\n",
    "array = [dataobj1, dataobj2, dataobj3, dataobj4]\n",
    "print(sorted(array))\n",
    "# => \n",
    "# [\n",
    "#   MyDataClass(a=0, b=1),\n",
    "#   MyDataClass(a=1, b=1),\n",
    "#   MyDataClass(a=1, b=2),\n",
    "#   MyDataClass(a=2, b=1)\n",
    "# ]"
   ]
  },
  {
   "cell_type": "markdown",
   "id": "genetic-deputy",
   "metadata": {},
   "source": [
    "## Immutability and hashing\n",
    "Finally, let’s talk about the frozen and unsafe_hash arguments. These arguments are very useful and facilitate the correct management of hashing, equality and mutation. If you are not familiar with hashing in Python, I recommend reading the article: (Understanding Hashing and Equality in Python with `__hash__` and `__eq__`)[https://medium.com/gitconnected/understanding-hashing-and-equality-in-python-with-hash-and-eq-12f6da79e8ad].\n",
    "\n",
    "Setting `frozen=True` states that the class should be *read-only or immutable*, i.e. after the initialization of an object, no fields can be changed:\n",
    "\n"
   ]
  },
  {
   "cell_type": "code",
   "execution_count": null,
   "id": "conservative-lindsay",
   "metadata": {},
   "outputs": [],
   "source": [
    "@dataclass(frozen=True)\n",
    "class MyDataClass:\n",
    "    a: int\n",
    "    b: int\n",
    "\n",
    "dataobj = MyDataClass(a=1, b=1)\n",
    "dataobj.a = 10\n",
    "# => FrozenInstanceError: cannot assign to field 'a'"
   ]
  },
  {
   "cell_type": "markdown",
   "id": "graphic-oasis",
   "metadata": {},
   "source": [
    "The two properties, frozen and eq will affect the implicit hashing method that is created:\n",
    "\n",
    "- `frozen=True`, `eq=True` => a `__hash__`-method is automatically generated using the fields\n",
    "- `frozen=True`, `eq=False` => default`__hash__`-method, i.e. not using the fields\n",
    "- `frozen=False`, `eq=True` => Unhashable, error is thrown if hashed\n",
    "- `frozen=False`, `eq=False` => default`__hash__`-method, i.e. not using the fields"
   ]
  },
  {
   "cell_type": "code",
   "execution_count": null,
   "id": "major-minneapolis",
   "metadata": {},
   "outputs": [],
   "source": [
    "@dataclass(frozen=True, eq=True)\n",
    "class MyDataClass:\n",
    "    a: int\n",
    "    b: int\n",
    "        \n",
    "# hashing and equality based on fields\n",
    "dataobj1 = MyDataClass(a=1, b=1)\n",
    "dataobj2 = MyDataClass(a=1, b=1)\n",
    "assert dataobj1 == dataobj2 and hash(dataobj1) == hash(dataobj2)\n",
    "\n",
    "for frozen in [False, True]:\n",
    "    @dataclass(frozen=frozen, eq=False)\n",
    "    class MyDataClass:\n",
    "        a: int\n",
    "        b: int\n",
    "\n",
    "    # default equality, default hashing\n",
    "    dataobj1 = MyDataClass(a=1, b=1)\n",
    "    dataobj2 = MyDataClass(a=1, b=1)\n",
    "    assert dataobj1 != dataobj2 and hash(dataobj1) != hash(dataobj2)\n",
    "\n",
    "@dataclass(frozen=False, eq=True)\n",
    "class MyDataClass:\n",
    "    a: int\n",
    "    b: int\n",
    "\n",
    "# error is thrown\n",
    "dataobj = MyDataClass(1, 1)\n",
    "hash(dataobj)\n",
    "# => TypeError: unhashable type: 'MyDataClass'"
   ]
  },
  {
   "cell_type": "markdown",
   "id": "tracked-intersection",
   "metadata": {},
   "source": [
    "The reason for this behavior is that `__hash__` is directly connected to `__eq__`. If two objects are equal, their hashes should also be equal. Thus, if the class defines the `__eq__` method, it can also generate the `__hash__`-method.\n",
    "\n",
    "But why does the class have to be frozen? If you add an object to a set or dictionary, the generated hash is used to place it inside the hash map. Later, when you want to retrieve the object, you use the same hash to find it. Now, if the object has been changed, the hash should also change (since it is based on the fields). Consequently, you will not be able to find the object again. Thus, for the hash to remain constant the fields it’s based on must remain constant. For this reason, if `eq=True` and `frozen=False`, there is no hash method available.\n",
    "\n",
    "What about `unsafe_hash`? As described, the predefined behavior of the implicit definition of `__hash__` is based on principles promoting best practices. However, if you still wish to have a `__hash__`-method defined anyway, perhaps due to special circumstances, you can set `unsafe_hash=True` and it will do so. But be aware that the *unsafe* keyword is there for a reason:"
   ]
  },
  {
   "cell_type": "code",
   "execution_count": null,
   "id": "mechanical-spanish",
   "metadata": {},
   "outputs": [],
   "source": [
    "@dataclass(unsafe_hash=True, eq=True, frozen=False)\n",
    "class MyDataClass:\n",
    "    a: int\n",
    "    b: int\n",
    "\n",
    "dataobj1 = MyDataClass(1, 1)\n",
    "dataobj2 = MyDataClass(1, 1)\n",
    "assert dataobj1 == dataobj2 and hash(dataobj) == hash(dataobj2)"
   ]
  },
  {
   "cell_type": "markdown",
   "id": "better-appeal",
   "metadata": {},
   "source": [
    "## Conclusion\n",
    "The @dataclass in Python is a useful decorator that enables us to save time, follow best practices, and simplify the process of creating classes. I believe it’s suitable for a wide variety of situations.\n",
    "\n",
    "Thanks for reading!"
   ]
  }
 ],
 "metadata": {
  "kernelspec": {
   "display_name": "Python 3",
   "language": "python",
   "name": "python3"
  },
  "language_info": {
   "codemirror_mode": {
    "name": "ipython",
    "version": 3
   },
   "file_extension": ".py",
   "mimetype": "text/x-python",
   "name": "python",
   "nbconvert_exporter": "python",
   "pygments_lexer": "ipython3",
   "version": "3.9.2"
  }
 },
 "nbformat": 4,
 "nbformat_minor": 5
}
