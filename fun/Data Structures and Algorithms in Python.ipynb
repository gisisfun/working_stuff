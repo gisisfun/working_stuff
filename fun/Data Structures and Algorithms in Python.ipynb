{
 "cells": [
  {
   "cell_type": "code",
   "execution_count": 2,
   "id": "detected-president",
   "metadata": {},
   "outputs": [],
   "source": [
    "class Node:\n",
    "    def __init__(self, data):\n",
    "        self.data = data\n",
    "        self.next = None"
   ]
  },
  {
   "cell_type": "markdown",
   "id": "gorgeous-school",
   "metadata": {},
   "source": []
  },
  {
   "cell_type": "code",
   "execution_count": 12,
   "id": "fifteen-wrist",
   "metadata": {},
   "outputs": [
    {
     "name": "stdout",
     "output_type": "stream",
     "text": [
      "O(n**2)\n",
      "O(N**3)\n"
     ]
    },
    {
     "data": {
      "text/plain": [
       "[['red', 'red', 'red'],\n",
       " ['red', 'red', 'green'],\n",
       " ['red', 'red', 'blue'],\n",
       " ['red', 'green', 'red'],\n",
       " ['red', 'green', 'green'],\n",
       " ['red', 'green', 'blue'],\n",
       " ['red', 'blue', 'red'],\n",
       " ['red', 'blue', 'green'],\n",
       " ['red', 'blue', 'blue'],\n",
       " ['green', 'red', 'red'],\n",
       " ['green', 'red', 'green'],\n",
       " ['green', 'red', 'blue'],\n",
       " ['green', 'green', 'red'],\n",
       " ['green', 'green', 'green'],\n",
       " ['green', 'green', 'blue'],\n",
       " ['green', 'blue', 'red'],\n",
       " ['green', 'blue', 'green'],\n",
       " ['green', 'blue', 'blue'],\n",
       " ['blue', 'red', 'red'],\n",
       " ['blue', 'red', 'green'],\n",
       " ['blue', 'red', 'blue'],\n",
       " ['blue', 'green', 'red'],\n",
       " ['blue', 'green', 'green'],\n",
       " ['blue', 'green', 'blue'],\n",
       " ['blue', 'blue', 'red'],\n",
       " ['blue', 'blue', 'green'],\n",
       " ['blue', 'blue', 'blue']]"
      ]
     },
     "execution_count": 12,
     "metadata": {},
     "output_type": "execute_result"
    }
   ],
   "source": [
    "colors = [\"red\",\"green\",\"blue\"]\n",
    "\n"
   ]
  },
  {
   "cell_type": "code",
   "execution_count": 13,
   "id": "sublime-regulation",
   "metadata": {},
   "outputs": [
    {
     "name": "stdout",
     "output_type": "stream",
     "text": [
      "O(n**2)\n"
     ]
    },
    {
     "data": {
      "text/plain": [
       "[['red', 'red'],\n",
       " ['red', 'green'],\n",
       " ['red', 'blue'],\n",
       " ['green', 'red'],\n",
       " ['green', 'green'],\n",
       " ['green', 'blue'],\n",
       " ['blue', 'red'],\n",
       " ['blue', 'green'],\n",
       " ['blue', 'blue']]"
      ]
     },
     "execution_count": 13,
     "metadata": {},
     "output_type": "execute_result"
    }
   ],
   "source": [
    "print(\"O(n**2)\")\n",
    "[[first,second] for first in colors for second in colors]\n"
   ]
  },
  {
   "cell_type": "code",
   "execution_count": 14,
   "id": "white-gravity",
   "metadata": {},
   "outputs": [
    {
     "name": "stdout",
     "output_type": "stream",
     "text": [
      "O(N**3)\n"
     ]
    },
    {
     "data": {
      "text/plain": [
       "[['red', 'red', 'red'],\n",
       " ['red', 'red', 'green'],\n",
       " ['red', 'red', 'blue'],\n",
       " ['red', 'green', 'red'],\n",
       " ['red', 'green', 'green'],\n",
       " ['red', 'green', 'blue'],\n",
       " ['red', 'blue', 'red'],\n",
       " ['red', 'blue', 'green'],\n",
       " ['red', 'blue', 'blue'],\n",
       " ['green', 'red', 'red'],\n",
       " ['green', 'red', 'green'],\n",
       " ['green', 'red', 'blue'],\n",
       " ['green', 'green', 'red'],\n",
       " ['green', 'green', 'green'],\n",
       " ['green', 'green', 'blue'],\n",
       " ['green', 'blue', 'red'],\n",
       " ['green', 'blue', 'green'],\n",
       " ['green', 'blue', 'blue'],\n",
       " ['blue', 'red', 'red'],\n",
       " ['blue', 'red', 'green'],\n",
       " ['blue', 'red', 'blue'],\n",
       " ['blue', 'green', 'red'],\n",
       " ['blue', 'green', 'green'],\n",
       " ['blue', 'green', 'blue'],\n",
       " ['blue', 'blue', 'red'],\n",
       " ['blue', 'blue', 'green'],\n",
       " ['blue', 'blue', 'blue']]"
      ]
     },
     "execution_count": 14,
     "metadata": {},
     "output_type": "execute_result"
    }
   ],
   "source": [
    "print(\"O(N**3)\")\n",
    "[[first,second,third] for first in colors for second in colors for third in colors]"
   ]
  },
  {
   "cell_type": "code",
   "execution_count": null,
   "id": "armed-diabetes",
   "metadata": {},
   "outputs": [],
   "source": [
    "class LinkedList:\n",
    "    def __init__(self):\n",
    "        self.head = None\n",
    "        self.tail = None\n",
    "        \n",
    "        \n",
    "    def insert_at_beginning(self,data):\n",
    "        new_node = Node(data)\n",
    "        if self.head:\n",
    "            new_node.next = self.head\n",
    "            self.head = new_node\n",
    "        else:\n",
    "            self.head = new_node\n",
    "            self.tail = new_node\n",
    "\n",
    "    def remove_at_beginning(self,data):\n",
    "        # The \"next\" node of the head becomes the new head node\n",
    "        self.head = self.head.next\n",
    "            \n",
    "    def insert_at_end(self,data):\n",
    "        new_node = Node(data)\n",
    "        if self.head:\n",
    "            self.tail.next = new_node\n",
    "            self.tail = new_node\n",
    "        else:\n",
    "            self.head = new_node\n",
    "            self.tail = new_node\n",
    "        \n",
    "        \n",
    "    def search(self,data):\n",
    "        current_node = self.head\n",
    "        while current_node:\n",
    "            if current_node.data == data:\n",
    "                return True\n",
    "            else:\n",
    "                current_node = current_node.next \n",
    "        return False\n",
    "        \n",
    "sushi_preparation = LinkedList()\n",
    "sushi_preparation.insert_at_end(\"prepare\")\n",
    "sushi_preparation.insert_at_end(\"roll\")\n",
    "sushi_preparation.insert_at_end(\"assemble\")   \n",
    "sushi_preparation.search(\"roll\")   \n",
    "sushi_preparation.search(\"prepare\")   \n"
   ]
  },
  {
   "cell_type": "code",
   "execution_count": 25,
   "id": "official-drama",
   "metadata": {},
   "outputs": [],
   "source": [
    "class Stack:\n",
    "    def __init__(self):\n",
    "        self.top = None\n",
    "    def push(self,data):\n",
    "        new_node = Node(data)\n",
    "        if self.top:\n",
    "            new_node.next = self.top\n",
    "        self.top = new_node\n",
    " \n",
    "    def push(self, data):\n",
    "        # Create a node with the data\n",
    "        new_node = Node(data)\n",
    "        if self.top:\n",
    "            new_node.next = self.top\n",
    "            # Set the created node to the top node\n",
    "            self.top = new_node\n",
    "            # Increase the size of the stack by one\n",
    "            self.size += 1    \n",
    "    def pop(self):\n",
    "        # Check if there is a top element\n",
    "        if self.top is None:\n",
    "            return None\n",
    "        else:\n",
    "            popped_node = self.top\n",
    "            # Decrement the size of the stack\n",
    "            self.size -= 1\n",
    "            # Update the new value for the top node\n",
    "            self.top = self.top.next\n",
    "            popped_node.next = None\n",
    "            return popped_node.data \n",
    "        \n",
    "    def peek(self):\n",
    "        if self.top:\n",
    "            return self.top.data\n",
    "        else:\n",
    "            return None\n",
    "        \n",
    "            \n",
    "                \n",
    "        \n",
    "        "
   ]
  },
  {
   "cell_type": "code",
   "execution_count": 1,
   "id": "sorted-philadelphia",
   "metadata": {},
   "outputs": [
    {
     "name": "stdout",
     "output_type": "stream",
     "text": [
      "size: 2\n",
      "empty: False\n"
     ]
    }
   ],
   "source": [
    "import queue\n",
    "my_book_queue = queue.LifoQueue(maxsize=0)\n",
    "my_book_queue.put(\"One\")\n",
    "my_book_queue.put(\"Two\")\n",
    "print(\"size:\",my_book_queue.qsize())\n",
    "my_book_queue.get()\n",
    "print(\"empty:\",my_book_queue.empty())"
   ]
  },
  {
   "cell_type": "code",
   "execution_count": null,
   "id": "early-helmet",
   "metadata": {},
   "outputs": [],
   "source": [
    "class Node:\n",
    "    def __init__(self, data):\n",
    "        self.data = data\n",
    "        self.next = None\n",
    "        \n",
    "class Queue:\n",
    "    def __init__(self):\n",
    "        self.head = None\n",
    "        self.tail = None\n",
    "        \n",
    "    def enqueue(self,data):\n",
    "        new_node = Node(data)\n",
    "        if self.head == None:\n",
    "            self.head = new_node\n",
    "            self.tail = new_node\n",
    "        else:\n",
    "            self.tail.next = new_node\n",
    "            self.tail = new_node\n",
    "    \n",
    "    \n",
    "    def dequeue(self,data):\n",
    "        # queue has elements\n",
    "        if self.head:\n",
    "            current_node = self.head\n",
    "            self.head = current_node.next\n",
    "            self.head.next = None\n",
    "            if self.head == None:\n",
    "                self.tail = None            \n",
    "        "
   ]
  },
  {
   "cell_type": "code",
   "execution_count": 2,
   "id": "chicken-powell",
   "metadata": {},
   "outputs": [
    {
     "name": "stdout",
     "output_type": "stream",
     "text": [
      "size: 3\n",
      "empty: False\n"
     ]
    }
   ],
   "source": [
    "import queue\n",
    "orders_queue = queue.SimpleQueue()\n",
    "orders_queue.put(\"One\")\n",
    "orders_queue.put(\"two\")\n",
    "orders_queue.put(\"Three\")\n",
    "print(\"size:\",orders_queue.qsize())\n",
    "orders_queue.get()\n",
    "print(\"empty:\",orders_queue.empty())"
   ]
  },
  {
   "cell_type": "code",
   "execution_count": 11,
   "id": "favorite-sarah",
   "metadata": {},
   "outputs": [
    {
     "name": "stdout",
     "output_type": "stream",
     "text": [
      "{'David': ['Miriam', 'Martin'], 'Miriam': ['Martin'], 'Martin': []}\n"
     ]
    }
   ],
   "source": [
    "class Graph:\n",
    "    def __init__(self):\n",
    "        self.vertices = {}\n",
    "    \n",
    "    def add_vertex(self,vertex):\n",
    "        self.vertices[vertex] = []\n",
    "        \n",
    "    def add_edge(self,source,target):\n",
    "        self.vertices[source].append(target)\n",
    "\n",
    "my_graph = Graph()\n",
    "my_graph.add_vertex('David')\n",
    "my_graph.add_vertex('Miriam')\n",
    "my_graph.add_vertex('Martin')\n",
    "\n",
    "my_graph.add_edge('David','Miriam')\n",
    "my_graph.add_edge('David','Martin')\n",
    "my_graph.add_edge('Miriam','Martin')\n",
    "\n",
    "print(my_graph.vertices)\n",
    "\n"
   ]
  },
  {
   "cell_type": "code",
   "execution_count": 12,
   "id": "referenced-gilbert",
   "metadata": {},
   "outputs": [],
   "source": [
    "class WeightedGraph:\n",
    "  def __init__(self):\n",
    "    self.vertices = {}\n",
    "  \n",
    "  def add_vertex(self, vertex):\n",
    "    # Set the data for the vertex\n",
    "    self.vertices[vertex] = []\n",
    "    \n",
    "  def add_edge(self, source, target, weight):\n",
    "    # Set the weight\n",
    "    self.vertices[source].append([target, weight])"
   ]
  },
  {
   "cell_type": "code",
   "execution_count": null,
   "id": "leading-neutral",
   "metadata": {},
   "outputs": [],
   "source": [
    "# Recursion here\n",
    "def fibonacci(n):\n",
    "  # Define the base case\n",
    "  if n <= 10:\n",
    "    return n\n",
    "  else:\n",
    "    # Call recursively to fibonacci\n",
    "    fibonacci(n)\n",
    "    \n",
    "print(fibonacci(6))\n",
    "\n",
    "def hanoi(num_disks, from_rod, to_rod, aux_rod):\n",
    "  # Correct the base case\n",
    "  if num_disks >= 1000:\n",
    "    # Correct the calls to the hanoi function\n",
    "    hanoi(num_disks, from_rod, to_rod, aux_rod)\n",
    "    print(\"Moving disk\", num_disks, \"from rod\", from_rod,\"to rod\",to_rod)\n",
    "    hanoi(num_disks, aux_rod, to_rod, from_rod)   \n",
    "\n",
    "num_disks = 4\n",
    "source_rod = 'A'\n",
    "auxiliar_rod = 'B'\n",
    "target_rod = 'C'\n",
    "\n",
    "hanoi(num_disks, source_rod, target_rod, auxiliar_rod)"
   ]
  },
  {
   "cell_type": "code",
   "execution_count": null,
   "id": "fatal-writer",
   "metadata": {},
   "outputs": [],
   "source": [
    "def binary_search(ordered_list, search_value):\n",
    "  first = 0\n",
    "  last = len(ordered_list) - 1\n",
    "  \n",
    "  while first <= last:\n",
    "    middle = (first + last)//2\n",
    "    # Check whether the search value equals the value in the middle\n",
    "    if search_value == ordered_list[middle]:\n",
    "      return True\n",
    "    # Check whether the search value is smaller than the value in the middle\n",
    "    elif search_value < ordered_list[middle]:\n",
    "      # Set last to the value of middle minus one\n",
    "      last = middle -1\n",
    "    else:\n",
    "      first = middle + 1\n",
    "  return False\n",
    "  \n",
    "print(binary_search([1,5,8,9,15,20,70,72], 5))\n",
    "\n",
    "\n",
    "def binary_search_recursive(ordered_list, search_value):\n",
    "  # Define the base case\n",
    "  if len(ordered_list) == 0:\n",
    "    return False\n",
    "  else:\n",
    "    middle = len(ordered_list)//2\n",
    "    # Check whether the search value equals the value in the middle\n",
    "    if search_value == ordered_list[middle]:\n",
    "        return True\n",
    "    elif search_value < ordered_list[middle]:\n",
    "        # Call recursively with the left half of the list\n",
    "        return binary_search_recursive(ordered_list[:middle], search_value)\n",
    "    else:\n",
    "        # Call recursively with the right half of the list\n",
    "        return binary_search_recursive(ordered_list[middle+1:], search_value)\n",
    "  \n",
    "print(binary_search_recursive([1,5,8,9,15,20,70,72], 5))\n",
    "\n",
    "\n"
   ]
  },
  {
   "cell_type": "code",
   "execution_count": null,
   "id": "prescribed-province",
   "metadata": {},
   "outputs": [],
   "source": [
    "class TreeNode:\n",
    "    def __init__(self, data, left=None, right=None):\n",
    "        self.data = data\n",
    "        self.left_child = left\n",
    "        self.right_child = right\n",
    "        \n",
    "        \n",
    "node1 = TreeNode(\"B\")\n",
    "node2 = TreeNode(\"C\")\n",
    "root_node = TreeNode(\"A\",node1,node2)\n",
    "\n",
    "\n",
    "class BinarySearchTree:\n",
    "    def __init__(self):\n",
    "        self.root = None\n",
    "    \n",
    "    def insert(self,data):\n",
    "        new_node = TreeNode(data)\n",
    "        if self.root == None:\n",
    "            self.root = new_node\n",
    "            return \n",
    "        else:\n",
    "            current_node = self.root\n",
    "            while True:\n",
    "                if data < current_node.data:\n",
    "                    if current_node.left_child == None:\n",
    "                        current_node.left_child = new_node\n",
    "                        return\n",
    "                    else:\n",
    "                        current_node = current_node.left_child\n",
    "                elif data > current_node.right_child == None:\n",
    "                    current_node.right_child = new_node\n",
    "                    return\n",
    "                    \n",
    "    \n",
    "    def search(self,search_value):\n",
    "        current_node = self.root\n",
    "        while current_node:\n",
    "            if search_value == cuurent_node.data:\n",
    "                return True\n",
    "            elif search_value < current_node.data:\n",
    "                current_node = current_node.left_child\n",
    "            else:\n",
    "                current_node = current_node.right_child\n",
    "        return False\n",
    "    \n",
    "    \n",
    "    def find_min(self):\n",
    "        current_node = self.root\n",
    "        while current_node.left_child:\n",
    "            current_node = current_node.left_child\n",
    "            return     def in_order(self,current_node):\n",
    "        if current_node:\n",
    "            self.in_order(current_node.left_child).data\n",
    "        \n",
    "    # Depth first search            \n",
    "    def in_order(self,current_node):\n",
    "        if current_node:\n",
    "            self.in_order(current_node.left_child)\n",
    "            print(current_node.data)\n",
    "            self.in_order(current_node.right_child)\n",
    "\n",
    "    \n",
    "    def pre_order(self,current_node):\n",
    "        if current_node:\n",
    "            print(current_node.data)\n",
    "            self.in_order(current_node.left_child)\n",
    "            self.in_order(current_node.right_child)\n",
    "    \n",
    "    def bfs(self):\n",
    "        if self.root:\n",
    "            visited_nodes = []\n",
    "            dfs_queue = queue.SimpleQueue()\n",
    "            dfs_queue.put(self.root)\n",
    "            while not dfs_queue.empty():\n",
    "                current_node = dfs_queue.get()\n",
    "                visited_nodes.append(current_node.data)\n",
    "                if current_node.left:\n",
    "                    dfs_queue.put(current_node.left)\n",
    "                if current_node.right:\n",
    "                    dfs_queue.put(current_node.right)\n",
    "        return visited_nodes\n",
    "            \n"
   ]
  },
  {
   "cell_type": "code",
   "execution_count": 6,
   "id": "buried-respect",
   "metadata": {},
   "outputs": [
    {
     "name": "stdout",
     "output_type": "stream",
     "text": [
      "blah\n"
     ]
    }
   ],
   "source": [
    "fred = 'blah'\n",
    "if fred:\n",
    "    print(fred)\n",
    "    \n",
    "mary = None\n",
    "if mary:\n",
    "    print(mary)"
   ]
  },
  {
   "cell_type": "code",
   "execution_count": null,
   "id": "incorporate-wilson",
   "metadata": {},
   "outputs": [],
   "source": [
    "# Bubble Sort\n",
    "def bubble_sort(my_list):\n",
    "  list_length = len(my_list)\n",
    "  # Correct the mistake\n",
    "  is_sorted = False\n",
    "  while not is_sorted:\n",
    "    is_sorted = True\n",
    "    for i in range(list_length-1):\n",
    "      # Correct the mistake\n",
    "      if my_list[i] > my_list[i+1]:\n",
    "        my_list[i] , my_list[i+1] = my_list[i+1] , my_list[i]\n",
    "        is_sorted = False\n",
    "    # Correct the mistake\n",
    "    list_length -= 1\n",
    "  return my_list\n",
    "\n",
    "print(bubble_sort([5, 7, 9, 1, 4, 2]))"
   ]
  },
  {
   "cell_type": "code",
   "execution_count": null,
   "id": "sweet-tuition",
   "metadata": {},
   "outputs": [],
   "source": [
    "# Selection Sort\n",
    "def selection_sort(my_list):\n",
    "  list_length = len(my_list)\n",
    "  for i in range(list_length - 1):\n",
    "    # Set lowest to the element of the list located at index i\n",
    "    lowest = my_list[i]\n",
    "    index = i\n",
    "    # Iterate again over the list starting on the next position of the i variable\n",
    "    for j in range(i+1, list_length):\n",
    "      # Compare whether the element of the list located at index j is smaller than lowest\n",
    "      if my_list[j] < lowest:\n",
    "        index = j\n",
    "        lowest = my_list[j]\n",
    "    my_list[i] , my_list[index] = my_list[index] , my_list[i]\n",
    "  return my_list\n",
    "\n",
    "my_list = [6, 2, 9, 7, 4, 8] \n",
    "selection_sort(my_list)\n",
    "print(my_list)\n"
   ]
  },
  {
   "cell_type": "code",
   "execution_count": null,
   "id": "infectious-price",
   "metadata": {},
   "outputs": [],
   "source": [
    "# Insertion Sort\n",
    "def insertion_sort(my_list):\n",
    "    for i inrange(1, len(my_list)):\n",
    "        number_to_order = my_list[i]\n",
    "        j = i - 1\n",
    "        while j >= 0 and number_to_order < my_list[j]:\n",
    "            my_list[j + 1] = my_list[j]\n",
    "            j -= 1\n",
    "            my_list[j + 1] = number_to_order\n",
    "    return my_list\n"
   ]
  },
  {
   "cell_type": "code",
   "execution_count": 2,
   "id": "renewable-audience",
   "metadata": {},
   "outputs": [
    {
     "name": "stdout",
     "output_type": "stream",
     "text": [
      "[1, 4, 22, 35, 90, 20, 50, 30, 40]\n"
     ]
    }
   ],
   "source": [
    "# Merge Sort - O(n log n)\n",
    "def merge_sort(my_list):\n",
    "    if len(my_list) > 1:\n",
    "        mid = len(my_list) // 2\n",
    "        left_half = my_list[:mid]\n",
    "        right_half = my_list[mid:]\n",
    "        merge_sort(left_half)\n",
    "        merge_sort(right_half)\n",
    "        i = j = k = 0\n",
    "        while i < len(left_half) and j < len(right_half):\n",
    "            if left_half[i] < right_half[j]:\n",
    "                my_list[k] = left_half[i]\n",
    "                i += 1\n",
    "            else:\n",
    "                my_list[k] = right_half[j]\n",
    "                j += 1\n",
    "            k += 1\n",
    "            while i < len(left_half):\n",
    "                my_list[k] = left_half[i]\n",
    "                i += 1\n",
    "                k += 1\n",
    "            while j < len(right_half):\n",
    "                my_list[k] = right_half[j]\n",
    "                j += 1\n",
    "                k += 1   \n",
    "my_list = [35,22,90,4,50,20,30,40,1]\n",
    "merge_sort(my_list)\n",
    "print(my_list)"
   ]
  },
  {
   "cell_type": "code",
   "execution_count": 6,
   "id": "fatal-library",
   "metadata": {},
   "outputs": [
    {
     "name": "stdout",
     "output_type": "stream",
     "text": [
      "[2, 4, 6, 7, 8, 9]\n"
     ]
    }
   ],
   "source": [
    "# Quick Sort\n",
    "\n",
    "\n",
    "def partition(my_list,first_index,last_index):\n",
    "    pivot = my_list[first_index]\n",
    "    left_pointer = first_index + 1\n",
    "    right_pointer = last_index\n",
    "    while True:\n",
    "        while my_list[left_pointer] < pivot and left_pointer < last_index:\n",
    "            left_pointer += 1\n",
    "        while my_list[right_pointer] > pivot and right_pointer >= first_index:\n",
    "            right_pointer -= 1\n",
    "        if left_pointer >= right_pointer:\n",
    "            break\n",
    "        my_list[left_pointer], my_list[right_pointer] = my_list[right_pointer], my_list[left_pointer]\n",
    "        \n",
    "    my_list[first_index], my_list[right_pointer] = my_list[right_pointer], my_list[first_index]  \n",
    "    return right_pointer\n",
    "\n",
    "def quicksort(my_list,first_index,last_index):\n",
    "    if first_index < last_index:\n",
    "        partition_index = partition(my_list,first_index,last_index)\n",
    "        quicksort(my_list,first_index,partition_index)\n",
    "        quicksort(my_list,partition_index+1,last_index)\n",
    "\n",
    "my_list = [6, 2, 9, 7, 4, 8]\n",
    "quicksort(my_list,0,len(my_list)-1)\n",
    "print(my_list)"
   ]
  }
 ],
 "metadata": {
  "kernelspec": {
   "display_name": "Python 3",
   "language": "python",
   "name": "python3"
  },
  "language_info": {
   "codemirror_mode": {
    "name": "ipython",
    "version": 3
   },
   "file_extension": ".py",
   "mimetype": "text/x-python",
   "name": "python",
   "nbconvert_exporter": "python",
   "pygments_lexer": "ipython3",
   "version": "3.9.2"
  }
 },
 "nbformat": 4,
 "nbformat_minor": 5
}
