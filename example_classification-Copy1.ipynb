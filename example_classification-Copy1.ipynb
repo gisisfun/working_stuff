{
 "cells": [
  {
   "cell_type": "code",
   "execution_count": 1,
   "metadata": {},
   "outputs": [
    {
     "name": "stderr",
     "output_type": "stream",
     "text": [
      "Matplotlib is building the font cache; this may take a moment.\n"
     ]
    }
   ],
   "source": [
    "%matplotlib inline"
   ]
  },
  {
   "cell_type": "markdown",
   "metadata": {},
   "source": [
    "\n",
    "# Classification\n",
    "\n",
    "The following example shows how to fit a simple classification model with\n",
    "*auto-sklearn*.\n"
   ]
  },
  {
   "cell_type": "code",
   "execution_count": 2,
   "metadata": {},
   "outputs": [
    {
     "name": "stderr",
     "output_type": "stream",
     "text": [
      "/home/me/.local/lib/python3.9/site-packages/pandas/compat/_optional.py:161: UserWarning: Pandas requires version '1.3.1' or newer of 'bottleneck' (version '1.2.1' currently installed).\n",
      "  warnings.warn(msg, UserWarning)\n"
     ]
    }
   ],
   "source": [
    "from pprint import pprint\n",
    "\n",
    "import sklearn.datasets\n",
    "import sklearn.metrics\n",
    "\n",
    "import autosklearn.classification"
   ]
  },
  {
   "cell_type": "markdown",
   "metadata": {},
   "source": [
    "## Data Loading\n",
    "\n"
   ]
  },
  {
   "cell_type": "code",
   "execution_count": 13,
   "metadata": {},
   "outputs": [
    {
     "data": {
      "text/plain": [
       "'.. _diabetes_dataset:\\n\\nDiabetes dataset\\n----------------\\n\\nTen baseline variables, age, sex, body mass index, average blood\\npressure, and six blood serum measurements were obtained for each of n =\\n442 diabetes patients, as well as the response of interest, a\\nquantitative measure of disease progression one year after baseline.\\n\\n**Data Set Characteristics:**\\n\\n  :Number of Instances: 442\\n\\n  :Number of Attributes: First 10 columns are numeric predictive values\\n\\n  :Target: Column 11 is a quantitative measure of disease progression one year after baseline\\n\\n  :Attribute Information:\\n      - age     age in years\\n      - sex\\n      - bmi     body mass index\\n      - bp      average blood pressure\\n      - s1      tc, total serum cholesterol\\n      - s2      ldl, low-density lipoproteins\\n      - s3      hdl, high-density lipoproteins\\n      - s4      tch, total cholesterol / HDL\\n      - s5      ltg, possibly log of serum triglycerides level\\n      - s6      glu, blood sugar level\\n\\nNote: Each of these 10 feature variables have been mean centered and scaled by the standard deviation times `n_samples` (i.e. the sum of squares of each column totals 1).\\n\\nSource URL:\\nhttps://www4.stat.ncsu.edu/~boos/var.select/diabetes.html\\n\\nFor more information see:\\nBradley Efron, Trevor Hastie, Iain Johnstone and Robert Tibshirani (2004) \"Least Angle Regression,\" Annals of Statistics (with discussion), 407-499.\\n(https://web.stanford.edu/~hastie/Papers/LARS/LeastAngle_2002.pdf)'"
      ]
     },
     "execution_count": 13,
     "metadata": {},
     "output_type": "execute_result"
    }
   ],
   "source": [
    "#X, y = sklearn.datasets.load_breast_cancer(return_X_y=True)\n",
    "X, y = sklearn.datasets.load_diabetes(return_X_y=True)\n",
    "X_train, X_test, y_train, y_test = sklearn.model_selection.train_test_split(\n",
    "    X, y, random_state=1\n",
    ")\n",
    "sklearn.datasets.load_diabetes().DESCR\n",
    "#help(sklearn.datasets.load_diabetes)\n",
    "#dir(sklearn.dataset"
   ]
  },
  {
   "cell_type": "markdown",
   "metadata": {},
   "source": [
    "## Build and fit a classifier\n",
    "\n"
   ]
  },
  {
   "cell_type": "code",
   "execution_count": 5,
   "metadata": {},
   "outputs": [
    {
     "name": "stdout",
     "output_type": "stream",
     "text": [
      "[ERROR] [2023-01-04 19:11:30,100:Client-AutoML(1):diabetes] (' Dummy prediction failed with run state StatusType.CRASHED and additional output: {\\'traceback\\': \\'Traceback (most recent call last):\\\\n  File \"/home/me/.local/lib/python3.9/site-packages/autosklearn/evaluation/__init__.py\", line 55, in fit_predict_try_except_decorator\\\\n    return ta(queue=queue, **kwargs)\\\\n  File \"/home/me/.local/lib/python3.9/site-packages/autosklearn/evaluation/train_evaluator.py\", line 1211, in eval_holdout\\\\n    evaluator.fit_predict_and_loss(iterative=iterative)\\\\n  File \"/home/me/.local/lib/python3.9/site-packages/autosklearn/evaluation/train_evaluator.py\", line 519, in fit_predict_and_loss\\\\n    for i, (train_split, test_split) in enumerate(\\\\n  File \"/home/me/.local/lib/python3.9/site-packages/sklearn/model_selection/_split.py\", line 1387, in split\\\\n    for train, test in self._iter_indices(X, y, groups):\\\\n  File \"/home/me/.local/lib/python3.9/site-packages/autosklearn/evaluation/splitter.py\", line 40, in _iter_indices\\\\n    raise ValueError(\\\\nValueError: The test_size = 110 should be greater or equal to the number of classes = 192\\\\n\\', \\'error\\': \"ValueError(\\'The test_size = 110 should be greater or equal to the number of classes = 192\\')\", \\'configuration_origin\\': \\'DUMMY\\'}.',)\n",
      "[ERROR] [2023-01-04 19:11:30,101:Client-AutoML(1):diabetes] (' Dummy prediction failed with run state StatusType.CRASHED and additional output: {\\'traceback\\': \\'Traceback (most recent call last):\\\\n  File \"/home/me/.local/lib/python3.9/site-packages/autosklearn/evaluation/__init__.py\", line 55, in fit_predict_try_except_decorator\\\\n    return ta(queue=queue, **kwargs)\\\\n  File \"/home/me/.local/lib/python3.9/site-packages/autosklearn/evaluation/train_evaluator.py\", line 1211, in eval_holdout\\\\n    evaluator.fit_predict_and_loss(iterative=iterative)\\\\n  File \"/home/me/.local/lib/python3.9/site-packages/autosklearn/evaluation/train_evaluator.py\", line 519, in fit_predict_and_loss\\\\n    for i, (train_split, test_split) in enumerate(\\\\n  File \"/home/me/.local/lib/python3.9/site-packages/sklearn/model_selection/_split.py\", line 1387, in split\\\\n    for train, test in self._iter_indices(X, y, groups):\\\\n  File \"/home/me/.local/lib/python3.9/site-packages/autosklearn/evaluation/splitter.py\", line 40, in _iter_indices\\\\n    raise ValueError(\\\\nValueError: The test_size = 110 should be greater or equal to the number of classes = 192\\\\n\\', \\'error\\': \"ValueError(\\'The test_size = 110 should be greater or equal to the number of classes = 192\\')\", \\'configuration_origin\\': \\'DUMMY\\'}.',)\n",
      "Traceback (most recent call last):\n",
      "  File \"/home/me/.local/lib/python3.9/site-packages/autosklearn/automl.py\", line 765, in fit\n",
      "    self._do_dummy_prediction()\n",
      "  File \"/home/me/.local/lib/python3.9/site-packages/autosklearn/automl.py\", line 489, in _do_dummy_prediction\n",
      "    raise ValueError(msg)\n",
      "ValueError: (' Dummy prediction failed with run state StatusType.CRASHED and additional output: {\\'traceback\\': \\'Traceback (most recent call last):\\\\n  File \"/home/me/.local/lib/python3.9/site-packages/autosklearn/evaluation/__init__.py\", line 55, in fit_predict_try_except_decorator\\\\n    return ta(queue=queue, **kwargs)\\\\n  File \"/home/me/.local/lib/python3.9/site-packages/autosklearn/evaluation/train_evaluator.py\", line 1211, in eval_holdout\\\\n    evaluator.fit_predict_and_loss(iterative=iterative)\\\\n  File \"/home/me/.local/lib/python3.9/site-packages/autosklearn/evaluation/train_evaluator.py\", line 519, in fit_predict_and_loss\\\\n    for i, (train_split, test_split) in enumerate(\\\\n  File \"/home/me/.local/lib/python3.9/site-packages/sklearn/model_selection/_split.py\", line 1387, in split\\\\n    for train, test in self._iter_indices(X, y, groups):\\\\n  File \"/home/me/.local/lib/python3.9/site-packages/autosklearn/evaluation/splitter.py\", line 40, in _iter_indices\\\\n    raise ValueError(\\\\nValueError: The test_size = 110 should be greater or equal to the number of classes = 192\\\\n\\', \\'error\\': \"ValueError(\\'The test_size = 110 should be greater or equal to the number of classes = 192\\')\", \\'configuration_origin\\': \\'DUMMY\\'}.',)\n"
     ]
    },
    {
     "ename": "ValueError",
     "evalue": "(' Dummy prediction failed with run state StatusType.CRASHED and additional output: {\\'traceback\\': \\'Traceback (most recent call last):\\\\n  File \"/home/me/.local/lib/python3.9/site-packages/autosklearn/evaluation/__init__.py\", line 55, in fit_predict_try_except_decorator\\\\n    return ta(queue=queue, **kwargs)\\\\n  File \"/home/me/.local/lib/python3.9/site-packages/autosklearn/evaluation/train_evaluator.py\", line 1211, in eval_holdout\\\\n    evaluator.fit_predict_and_loss(iterative=iterative)\\\\n  File \"/home/me/.local/lib/python3.9/site-packages/autosklearn/evaluation/train_evaluator.py\", line 519, in fit_predict_and_loss\\\\n    for i, (train_split, test_split) in enumerate(\\\\n  File \"/home/me/.local/lib/python3.9/site-packages/sklearn/model_selection/_split.py\", line 1387, in split\\\\n    for train, test in self._iter_indices(X, y, groups):\\\\n  File \"/home/me/.local/lib/python3.9/site-packages/autosklearn/evaluation/splitter.py\", line 40, in _iter_indices\\\\n    raise ValueError(\\\\nValueError: The test_size = 110 should be greater or equal to the number of classes = 192\\\\n\\', \\'error\\': \"ValueError(\\'The test_size = 110 should be greater or equal to the number of classes = 192\\')\", \\'configuration_origin\\': \\'DUMMY\\'}.',)",
     "output_type": "error",
     "traceback": [
      "\u001b[0;31m---------------------------------------------------------------------------\u001b[0m",
      "\u001b[0;31mValueError\u001b[0m                                Traceback (most recent call last)",
      "\u001b[0;32m<ipython-input-5-4e60c5dc2372>\u001b[0m in \u001b[0;36m<module>\u001b[0;34m\u001b[0m\n\u001b[1;32m      4\u001b[0m     \u001b[0mtmp_folder\u001b[0m\u001b[0;34m=\u001b[0m\u001b[0;34m\"/tmp/autosklearn_classification_example_tmp\"\u001b[0m\u001b[0;34m,\u001b[0m\u001b[0;34m\u001b[0m\u001b[0;34m\u001b[0m\u001b[0m\n\u001b[1;32m      5\u001b[0m )\n\u001b[0;32m----> 6\u001b[0;31m \u001b[0mautoml\u001b[0m\u001b[0;34m.\u001b[0m\u001b[0mfit\u001b[0m\u001b[0;34m(\u001b[0m\u001b[0mX_train\u001b[0m\u001b[0;34m,\u001b[0m \u001b[0my_train\u001b[0m\u001b[0;34m,\u001b[0m \u001b[0mdataset_name\u001b[0m\u001b[0;34m=\u001b[0m\u001b[0;34m\"diabetes\"\u001b[0m\u001b[0;34m)\u001b[0m\u001b[0;34m\u001b[0m\u001b[0;34m\u001b[0m\u001b[0m\n\u001b[0m",
      "\u001b[0;32m~/.local/lib/python3.9/site-packages/autosklearn/estimators.py\u001b[0m in \u001b[0;36mfit\u001b[0;34m(self, X, y, X_test, y_test, feat_type, dataset_name)\u001b[0m\n\u001b[1;32m   1446\u001b[0m         \u001b[0mself\u001b[0m\u001b[0;34m.\u001b[0m\u001b[0mtarget_type\u001b[0m \u001b[0;34m=\u001b[0m \u001b[0mtarget_type\u001b[0m\u001b[0;34m\u001b[0m\u001b[0;34m\u001b[0m\u001b[0m\n\u001b[1;32m   1447\u001b[0m \u001b[0;34m\u001b[0m\u001b[0m\n\u001b[0;32m-> 1448\u001b[0;31m         super().fit(\n\u001b[0m\u001b[1;32m   1449\u001b[0m             \u001b[0mX\u001b[0m\u001b[0;34m=\u001b[0m\u001b[0mX\u001b[0m\u001b[0;34m,\u001b[0m\u001b[0;34m\u001b[0m\u001b[0;34m\u001b[0m\u001b[0m\n\u001b[1;32m   1450\u001b[0m             \u001b[0my\u001b[0m\u001b[0;34m=\u001b[0m\u001b[0my\u001b[0m\u001b[0;34m,\u001b[0m\u001b[0;34m\u001b[0m\u001b[0;34m\u001b[0m\u001b[0m\n",
      "\u001b[0;32m~/.local/lib/python3.9/site-packages/autosklearn/estimators.py\u001b[0m in \u001b[0;36mfit\u001b[0;34m(self, **kwargs)\u001b[0m\n\u001b[1;32m    538\u001b[0m         \u001b[0;32mif\u001b[0m \u001b[0mself\u001b[0m\u001b[0;34m.\u001b[0m\u001b[0mautoml_\u001b[0m \u001b[0;32mis\u001b[0m \u001b[0;32mNone\u001b[0m\u001b[0;34m:\u001b[0m\u001b[0;34m\u001b[0m\u001b[0;34m\u001b[0m\u001b[0m\n\u001b[1;32m    539\u001b[0m             \u001b[0mself\u001b[0m\u001b[0;34m.\u001b[0m\u001b[0mautoml_\u001b[0m \u001b[0;34m=\u001b[0m \u001b[0mself\u001b[0m\u001b[0;34m.\u001b[0m\u001b[0mbuild_automl\u001b[0m\u001b[0;34m(\u001b[0m\u001b[0;34m)\u001b[0m\u001b[0;34m\u001b[0m\u001b[0;34m\u001b[0m\u001b[0m\n\u001b[0;32m--> 540\u001b[0;31m         \u001b[0mself\u001b[0m\u001b[0;34m.\u001b[0m\u001b[0mautoml_\u001b[0m\u001b[0;34m.\u001b[0m\u001b[0mfit\u001b[0m\u001b[0;34m(\u001b[0m\u001b[0mload_models\u001b[0m\u001b[0;34m=\u001b[0m\u001b[0mself\u001b[0m\u001b[0;34m.\u001b[0m\u001b[0mload_models\u001b[0m\u001b[0;34m,\u001b[0m \u001b[0;34m**\u001b[0m\u001b[0mkwargs\u001b[0m\u001b[0;34m)\u001b[0m\u001b[0;34m\u001b[0m\u001b[0;34m\u001b[0m\u001b[0m\n\u001b[0m\u001b[1;32m    541\u001b[0m \u001b[0;34m\u001b[0m\u001b[0m\n\u001b[1;32m    542\u001b[0m         \u001b[0;32mreturn\u001b[0m \u001b[0mself\u001b[0m\u001b[0;34m\u001b[0m\u001b[0;34m\u001b[0m\u001b[0m\n",
      "\u001b[0;32m~/.local/lib/python3.9/site-packages/autosklearn/automl.py\u001b[0m in \u001b[0;36mfit\u001b[0;34m(self, X, y, X_test, y_test, feat_type, dataset_name, only_return_configuration_space, load_models)\u001b[0m\n\u001b[1;32m   2302\u001b[0m         \u001b[0mload_models\u001b[0m\u001b[0;34m:\u001b[0m \u001b[0mbool\u001b[0m \u001b[0;34m=\u001b[0m \u001b[0;32mTrue\u001b[0m\u001b[0;34m,\u001b[0m\u001b[0;34m\u001b[0m\u001b[0;34m\u001b[0m\u001b[0m\n\u001b[1;32m   2303\u001b[0m     ) -> AutoMLClassifier:\n\u001b[0;32m-> 2304\u001b[0;31m         return super().fit(\n\u001b[0m\u001b[1;32m   2305\u001b[0m             \u001b[0mX\u001b[0m\u001b[0;34m,\u001b[0m\u001b[0;34m\u001b[0m\u001b[0;34m\u001b[0m\u001b[0m\n\u001b[1;32m   2306\u001b[0m             \u001b[0my\u001b[0m\u001b[0;34m,\u001b[0m\u001b[0;34m\u001b[0m\u001b[0;34m\u001b[0m\u001b[0m\n",
      "\u001b[0;32m~/.local/lib/python3.9/site-packages/autosklearn/automl.py\u001b[0m in \u001b[0;36mfit\u001b[0;34m(self, X, y, task, X_test, y_test, feat_type, dataset_name, only_return_configuration_space, load_models, is_classification)\u001b[0m\n\u001b[1;32m    960\u001b[0m             \u001b[0;31m# This will be called before the _fit_cleanup\u001b[0m\u001b[0;34m\u001b[0m\u001b[0;34m\u001b[0m\u001b[0;34m\u001b[0m\u001b[0m\n\u001b[1;32m    961\u001b[0m             \u001b[0mself\u001b[0m\u001b[0;34m.\u001b[0m\u001b[0m_logger\u001b[0m\u001b[0;34m.\u001b[0m\u001b[0mexception\u001b[0m\u001b[0;34m(\u001b[0m\u001b[0me\u001b[0m\u001b[0;34m)\u001b[0m\u001b[0;34m\u001b[0m\u001b[0;34m\u001b[0m\u001b[0m\n\u001b[0;32m--> 962\u001b[0;31m             \u001b[0;32mraise\u001b[0m \u001b[0me\u001b[0m\u001b[0;34m\u001b[0m\u001b[0;34m\u001b[0m\u001b[0m\n\u001b[0m\u001b[1;32m    963\u001b[0m         \u001b[0;32mfinally\u001b[0m\u001b[0;34m:\u001b[0m\u001b[0;34m\u001b[0m\u001b[0;34m\u001b[0m\u001b[0m\n\u001b[1;32m    964\u001b[0m             \u001b[0mself\u001b[0m\u001b[0;34m.\u001b[0m\u001b[0m_fit_cleanup\u001b[0m\u001b[0;34m(\u001b[0m\u001b[0;34m)\u001b[0m\u001b[0;34m\u001b[0m\u001b[0;34m\u001b[0m\u001b[0m\n",
      "\u001b[0;32m~/.local/lib/python3.9/site-packages/autosklearn/automl.py\u001b[0m in \u001b[0;36mfit\u001b[0;34m(self, X, y, task, X_test, y_test, feat_type, dataset_name, only_return_configuration_space, load_models, is_classification)\u001b[0m\n\u001b[1;32m    763\u001b[0m             \u001b[0;32mwith\u001b[0m \u001b[0mself\u001b[0m\u001b[0;34m.\u001b[0m\u001b[0m_stopwatch\u001b[0m\u001b[0;34m.\u001b[0m\u001b[0mtime\u001b[0m\u001b[0;34m(\u001b[0m\u001b[0;34m\"Dummy predictions\"\u001b[0m\u001b[0;34m)\u001b[0m\u001b[0;34m:\u001b[0m\u001b[0;34m\u001b[0m\u001b[0;34m\u001b[0m\u001b[0m\n\u001b[1;32m    764\u001b[0m                 \u001b[0mself\u001b[0m\u001b[0;34m.\u001b[0m\u001b[0mnum_run\u001b[0m \u001b[0;34m+=\u001b[0m \u001b[0;36m1\u001b[0m\u001b[0;34m\u001b[0m\u001b[0;34m\u001b[0m\u001b[0m\n\u001b[0;32m--> 765\u001b[0;31m                 \u001b[0mself\u001b[0m\u001b[0;34m.\u001b[0m\u001b[0m_do_dummy_prediction\u001b[0m\u001b[0;34m(\u001b[0m\u001b[0;34m)\u001b[0m\u001b[0;34m\u001b[0m\u001b[0;34m\u001b[0m\u001b[0m\n\u001b[0m\u001b[1;32m    766\u001b[0m \u001b[0;34m\u001b[0m\u001b[0m\n\u001b[1;32m    767\u001b[0m             \u001b[0;31m# == RUN ensemble builder\u001b[0m\u001b[0;34m\u001b[0m\u001b[0;34m\u001b[0m\u001b[0;34m\u001b[0m\u001b[0m\n",
      "\u001b[0;32m~/.local/lib/python3.9/site-packages/autosklearn/automl.py\u001b[0m in \u001b[0;36m_do_dummy_prediction\u001b[0;34m(self)\u001b[0m\n\u001b[1;32m    487\u001b[0m \u001b[0;34m\u001b[0m\u001b[0m\n\u001b[1;32m    488\u001b[0m             \u001b[0mself\u001b[0m\u001b[0;34m.\u001b[0m\u001b[0m_logger\u001b[0m\u001b[0;34m.\u001b[0m\u001b[0merror\u001b[0m\u001b[0;34m(\u001b[0m\u001b[0mmsg\u001b[0m\u001b[0;34m)\u001b[0m\u001b[0;34m\u001b[0m\u001b[0;34m\u001b[0m\u001b[0m\n\u001b[0;32m--> 489\u001b[0;31m             \u001b[0;32mraise\u001b[0m \u001b[0mValueError\u001b[0m\u001b[0;34m(\u001b[0m\u001b[0mmsg\u001b[0m\u001b[0;34m)\u001b[0m\u001b[0;34m\u001b[0m\u001b[0;34m\u001b[0m\u001b[0m\n\u001b[0m\u001b[1;32m    490\u001b[0m \u001b[0;34m\u001b[0m\u001b[0m\n\u001b[1;32m    491\u001b[0m         \u001b[0;32mreturn\u001b[0m\u001b[0;34m\u001b[0m\u001b[0;34m\u001b[0m\u001b[0m\n",
      "\u001b[0;31mValueError\u001b[0m: (' Dummy prediction failed with run state StatusType.CRASHED and additional output: {\\'traceback\\': \\'Traceback (most recent call last):\\\\n  File \"/home/me/.local/lib/python3.9/site-packages/autosklearn/evaluation/__init__.py\", line 55, in fit_predict_try_except_decorator\\\\n    return ta(queue=queue, **kwargs)\\\\n  File \"/home/me/.local/lib/python3.9/site-packages/autosklearn/evaluation/train_evaluator.py\", line 1211, in eval_holdout\\\\n    evaluator.fit_predict_and_loss(iterative=iterative)\\\\n  File \"/home/me/.local/lib/python3.9/site-packages/autosklearn/evaluation/train_evaluator.py\", line 519, in fit_predict_and_loss\\\\n    for i, (train_split, test_split) in enumerate(\\\\n  File \"/home/me/.local/lib/python3.9/site-packages/sklearn/model_selection/_split.py\", line 1387, in split\\\\n    for train, test in self._iter_indices(X, y, groups):\\\\n  File \"/home/me/.local/lib/python3.9/site-packages/autosklearn/evaluation/splitter.py\", line 40, in _iter_indices\\\\n    raise ValueError(\\\\nValueError: The test_size = 110 should be greater or equal to the number of classes = 192\\\\n\\', \\'error\\': \"ValueError(\\'The test_size = 110 should be greater or equal to the number of classes = 192\\')\", \\'configuration_origin\\': \\'DUMMY\\'}.',)"
     ]
    }
   ],
   "source": [
    "automl = autosklearn.classification.AutoSklearnClassifier(\n",
    "    time_left_for_this_task=120,\n",
    "    per_run_time_limit=30,\n",
    "    tmp_folder=\"/tmp/autosklearn_classification_example_tmp\",\n",
    ")\n",
    "automl.fit(X_train, y_train, dataset_name=\"diabetes\")"
   ]
  },
  {
   "cell_type": "markdown",
   "metadata": {},
   "source": [
    "## View the models found by auto-sklearn\n",
    "\n"
   ]
  },
  {
   "cell_type": "code",
   "execution_count": 5,
   "metadata": {},
   "outputs": [
    {
     "name": "stdout",
     "output_type": "stream",
     "text": [
      "          rank  ensemble_weight               type      cost  duration\n",
      "model_id                                                              \n",
      "7            1             0.28        extra_trees  0.014184  2.273840\n",
      "27           2             0.14        extra_trees  0.014184  2.835571\n",
      "16           3             0.04  gradient_boosting  0.021277  1.517895\n",
      "21           4             0.02        extra_trees  0.021277  1.927852\n",
      "2            5             0.04      random_forest  0.028369  2.240965\n",
      "3            6             0.22                mlp  0.028369  1.679106\n",
      "11           7             0.02      random_forest  0.028369  2.730853\n",
      "14           8             0.02                mlp  0.028369  2.975147\n",
      "26           9             0.02        extra_trees  0.028369  3.231604\n",
      "5           10             0.04      random_forest  0.035461  2.658178\n",
      "12          11             0.02  gradient_boosting  0.035461  1.817088\n",
      "17          12             0.02  gradient_boosting  0.035461  2.202067\n",
      "9           13             0.12        extra_trees  0.042553  2.482778\n"
     ]
    }
   ],
   "source": [
    "print(automl.leaderboard())"
   ]
  },
  {
   "cell_type": "markdown",
   "metadata": {},
   "source": [
    "## Print the final ensemble constructed by auto-sklearn\n",
    "\n"
   ]
  },
  {
   "cell_type": "code",
   "execution_count": 6,
   "metadata": {},
   "outputs": [
    {
     "name": "stdout",
     "output_type": "stream",
     "text": [
      "{   2: {   'balancing': Balancing(random_state=1),\n",
      "           'classifier': <autosklearn.pipeline.components.classification.ClassifierChoice object at 0x7c4dcde640>,\n",
      "           'cost': 0.028368794326241176,\n",
      "           'data_preprocessor': <autosklearn.pipeline.components.data_preprocessing.DataPreprocessorChoice object at 0x7c4de7b4f0>,\n",
      "           'ensemble_weight': 0.04,\n",
      "           'feature_preprocessor': <autosklearn.pipeline.components.feature_preprocessing.FeaturePreprocessorChoice object at 0x7c4dcdef70>,\n",
      "           'model_id': 2,\n",
      "           'rank': 1,\n",
      "           'sklearn_classifier': RandomForestClassifier(max_features=5, n_estimators=512, n_jobs=1,\n",
      "                       random_state=1, warm_start=True)},\n",
      "    3: {   'balancing': Balancing(random_state=1),\n",
      "           'classifier': <autosklearn.pipeline.components.classification.ClassifierChoice object at 0x7c4dea3ca0>,\n",
      "           'cost': 0.028368794326241176,\n",
      "           'data_preprocessor': <autosklearn.pipeline.components.data_preprocessing.DataPreprocessorChoice object at 0x7c1f4f64f0>,\n",
      "           'ensemble_weight': 0.22,\n",
      "           'feature_preprocessor': <autosklearn.pipeline.components.feature_preprocessing.FeaturePreprocessorChoice object at 0x7c4de970d0>,\n",
      "           'model_id': 3,\n",
      "           'rank': 2,\n",
      "           'sklearn_classifier': MLPClassifier(activation='tanh', alpha=0.0001363185819149026, beta_1=0.999,\n",
      "              beta_2=0.9, early_stopping=True,\n",
      "              hidden_layer_sizes=(115, 115, 115),\n",
      "              learning_rate_init=0.00018009776276177523, max_iter=32,\n",
      "              n_iter_no_change=32, random_state=1, verbose=0, warm_start=True)},\n",
      "    5: {   'balancing': Balancing(random_state=1, strategy='weighting'),\n",
      "           'classifier': <autosklearn.pipeline.components.classification.ClassifierChoice object at 0x7c4d6107f0>,\n",
      "           'cost': 0.03546099290780147,\n",
      "           'data_preprocessor': <autosklearn.pipeline.components.data_preprocessing.DataPreprocessorChoice object at 0x7c4de7ba30>,\n",
      "           'ensemble_weight': 0.04,\n",
      "           'feature_preprocessor': <autosklearn.pipeline.components.feature_preprocessing.FeaturePreprocessorChoice object at 0x7c4db49ee0>,\n",
      "           'model_id': 5,\n",
      "           'rank': 3,\n",
      "           'sklearn_classifier': RandomForestClassifier(criterion='entropy', max_features=3, min_samples_leaf=2,\n",
      "                       n_estimators=512, n_jobs=1, random_state=1,\n",
      "                       warm_start=True)},\n",
      "    7: {   'balancing': Balancing(random_state=1),\n",
      "           'classifier': <autosklearn.pipeline.components.classification.ClassifierChoice object at 0x7c4d6106d0>,\n",
      "           'cost': 0.014184397163120588,\n",
      "           'data_preprocessor': <autosklearn.pipeline.components.data_preprocessing.DataPreprocessorChoice object at 0x7c4de7d610>,\n",
      "           'ensemble_weight': 0.28,\n",
      "           'feature_preprocessor': <autosklearn.pipeline.components.feature_preprocessing.FeaturePreprocessorChoice object at 0x7c4d6104f0>,\n",
      "           'model_id': 7,\n",
      "           'rank': 4,\n",
      "           'sklearn_classifier': ExtraTreesClassifier(max_features=34, min_samples_leaf=3, min_samples_split=11,\n",
      "                     n_estimators=512, n_jobs=1, random_state=1,\n",
      "                     warm_start=True)},\n",
      "    9: {   'balancing': Balancing(random_state=1, strategy='weighting'),\n",
      "           'classifier': <autosklearn.pipeline.components.classification.ClassifierChoice object at 0x7c4d499880>,\n",
      "           'cost': 0.04255319148936165,\n",
      "           'data_preprocessor': <autosklearn.pipeline.components.data_preprocessing.DataPreprocessorChoice object at 0x7c4dc40d90>,\n",
      "           'ensemble_weight': 0.12,\n",
      "           'feature_preprocessor': <autosklearn.pipeline.components.feature_preprocessing.FeaturePreprocessorChoice object at 0x7c4d554370>,\n",
      "           'model_id': 9,\n",
      "           'rank': 5,\n",
      "           'sklearn_classifier': ExtraTreesClassifier(max_features=9, min_samples_split=10, n_estimators=512,\n",
      "                     n_jobs=1, random_state=1, warm_start=True)},\n",
      "    11: {   'balancing': Balancing(random_state=1),\n",
      "            'classifier': <autosklearn.pipeline.components.classification.ClassifierChoice object at 0x7c4d499a60>,\n",
      "            'cost': 0.028368794326241176,\n",
      "            'data_preprocessor': <autosklearn.pipeline.components.data_preprocessing.DataPreprocessorChoice object at 0x7c4d6be4c0>,\n",
      "            'ensemble_weight': 0.02,\n",
      "            'feature_preprocessor': <autosklearn.pipeline.components.feature_preprocessing.FeaturePreprocessorChoice object at 0x7c4d499580>,\n",
      "            'model_id': 11,\n",
      "            'rank': 6,\n",
      "            'sklearn_classifier': RandomForestClassifier(criterion='entropy', max_features=23, min_samples_leaf=7,\n",
      "                       n_estimators=512, n_jobs=1, random_state=1,\n",
      "                       warm_start=True)},\n",
      "    12: {   'balancing': Balancing(random_state=1),\n",
      "            'classifier': <autosklearn.pipeline.components.classification.ClassifierChoice object at 0x7c4d184490>,\n",
      "            'cost': 0.03546099290780147,\n",
      "            'data_preprocessor': <autosklearn.pipeline.components.data_preprocessing.DataPreprocessorChoice object at 0x7c4d597370>,\n",
      "            'ensemble_weight': 0.02,\n",
      "            'feature_preprocessor': <autosklearn.pipeline.components.feature_preprocessing.FeaturePreprocessorChoice object at 0x7c4d1ebfd0>,\n",
      "            'model_id': 12,\n",
      "            'rank': 7,\n",
      "            'sklearn_classifier': HistGradientBoostingClassifier(early_stopping=True,\n",
      "                               l2_regularization=0.005326508887463406,\n",
      "                               learning_rate=0.060800813211425456, max_iter=512,\n",
      "                               max_leaf_nodes=6, min_samples_leaf=5,\n",
      "                               n_iter_no_change=5, random_state=1,\n",
      "                               validation_fraction=None, warm_start=True)},\n",
      "    14: {   'balancing': Balancing(random_state=1),\n",
      "            'classifier': <autosklearn.pipeline.components.classification.ClassifierChoice object at 0x7c4d4789d0>,\n",
      "            'cost': 0.028368794326241176,\n",
      "            'data_preprocessor': <autosklearn.pipeline.components.data_preprocessing.DataPreprocessorChoice object at 0x7c4d36d1f0>,\n",
      "            'ensemble_weight': 0.02,\n",
      "            'feature_preprocessor': <autosklearn.pipeline.components.feature_preprocessing.FeaturePreprocessorChoice object at 0x7c42992d60>,\n",
      "            'model_id': 14,\n",
      "            'rank': 8,\n",
      "            'sklearn_classifier': MLPClassifier(activation='tanh', alpha=2.5550223982458062e-06, beta_1=0.999,\n",
      "              beta_2=0.9, hidden_layer_sizes=(54, 54, 54),\n",
      "              learning_rate_init=0.00027271287919467994, max_iter=256,\n",
      "              n_iter_no_change=32, random_state=1, validation_fraction=0.0,\n",
      "              verbose=0, warm_start=True)},\n",
      "    16: {   'balancing': Balancing(random_state=1, strategy='weighting'),\n",
      "            'classifier': <autosklearn.pipeline.components.classification.ClassifierChoice object at 0x7c4d478bb0>,\n",
      "            'cost': 0.021276595744680882,\n",
      "            'data_preprocessor': <autosklearn.pipeline.components.data_preprocessing.DataPreprocessorChoice object at 0x7c4d26a8e0>,\n",
      "            'ensemble_weight': 0.04,\n",
      "            'feature_preprocessor': <autosklearn.pipeline.components.feature_preprocessing.FeaturePreprocessorChoice object at 0x7c4d478f70>,\n",
      "            'model_id': 16,\n",
      "            'rank': 9,\n",
      "            'sklearn_classifier': HistGradientBoostingClassifier(early_stopping=True,\n",
      "                               l2_regularization=3.387912939529945e-10,\n",
      "                               learning_rate=0.30755227194768237, max_iter=128,\n",
      "                               max_leaf_nodes=60, min_samples_leaf=39,\n",
      "                               n_iter_no_change=18, random_state=1,\n",
      "                               validation_fraction=None, warm_start=True)},\n",
      "    17: {   'balancing': Balancing(random_state=1),\n",
      "            'classifier': <autosklearn.pipeline.components.classification.ClassifierChoice object at 0x7c4d50a310>,\n",
      "            'cost': 0.03546099290780147,\n",
      "            'data_preprocessor': <autosklearn.pipeline.components.data_preprocessing.DataPreprocessorChoice object at 0x7c42985ca0>,\n",
      "            'ensemble_weight': 0.02,\n",
      "            'feature_preprocessor': <autosklearn.pipeline.components.feature_preprocessing.FeaturePreprocessorChoice object at 0x7c4d4af790>,\n",
      "            'model_id': 17,\n",
      "            'rank': 10,\n",
      "            'sklearn_classifier': HistGradientBoostingClassifier(early_stopping=True,\n",
      "                               l2_regularization=0.4635442279519353,\n",
      "                               learning_rate=0.09809681787962342, max_iter=512,\n",
      "                               max_leaf_nodes=328, min_samples_leaf=2,\n",
      "                               n_iter_no_change=2, random_state=1,\n",
      "                               validation_fraction=None, warm_start=True)},\n",
      "    21: {   'balancing': Balancing(random_state=1),\n",
      "            'classifier': <autosklearn.pipeline.components.classification.ClassifierChoice object at 0x7c4d50a580>,\n",
      "            'cost': 0.021276595744680882,\n",
      "            'data_preprocessor': <autosklearn.pipeline.components.data_preprocessing.DataPreprocessorChoice object at 0x7c42966220>,\n",
      "            'ensemble_weight': 0.02,\n",
      "            'feature_preprocessor': <autosklearn.pipeline.components.feature_preprocessing.FeaturePreprocessorChoice object at 0x7c4d50a8b0>,\n",
      "            'model_id': 21,\n",
      "            'rank': 11,\n",
      "            'sklearn_classifier': ExtraTreesClassifier(criterion='entropy', max_features=4, min_samples_leaf=2,\n",
      "                     min_samples_split=15, n_estimators=512, n_jobs=1,\n",
      "                     random_state=1, warm_start=True)},\n",
      "    26: {   'balancing': Balancing(random_state=1),\n",
      "            'classifier': <autosklearn.pipeline.components.classification.ClassifierChoice object at 0x7c1f0289a0>,\n",
      "            'cost': 0.028368794326241176,\n",
      "            'data_preprocessor': <autosklearn.pipeline.components.data_preprocessing.DataPreprocessorChoice object at 0x7c4d4c1100>,\n",
      "            'ensemble_weight': 0.02,\n",
      "            'feature_preprocessor': <autosklearn.pipeline.components.feature_preprocessing.FeaturePreprocessorChoice object at 0x7c1f0287c0>,\n",
      "            'model_id': 26,\n",
      "            'rank': 12,\n",
      "            'sklearn_classifier': ExtraTreesClassifier(criterion='entropy', max_features=414, min_samples_leaf=2,\n",
      "                     min_samples_split=19, n_estimators=512, n_jobs=1,\n",
      "                     random_state=1, warm_start=True)},\n",
      "    27: {   'balancing': Balancing(random_state=1, strategy='weighting'),\n",
      "            'classifier': <autosklearn.pipeline.components.classification.ClassifierChoice object at 0x7c1ef064f0>,\n",
      "            'cost': 0.014184397163120588,\n",
      "            'data_preprocessor': <autosklearn.pipeline.components.data_preprocessing.DataPreprocessorChoice object at 0x7c4d4a5df0>,\n",
      "            'ensemble_weight': 0.14,\n",
      "            'feature_preprocessor': <autosklearn.pipeline.components.feature_preprocessing.FeaturePreprocessorChoice object at 0x7c1eefeb50>,\n",
      "            'model_id': 27,\n",
      "            'rank': 13,\n",
      "            'sklearn_classifier': ExtraTreesClassifier(bootstrap=True, criterion='entropy', max_features=26,\n",
      "                     min_samples_split=3, n_estimators=512, n_jobs=1,\n",
      "                     random_state=1, warm_start=True)}}\n"
     ]
    }
   ],
   "source": [
    "pprint(automl.show_models(), indent=4)"
   ]
  },
  {
   "cell_type": "markdown",
   "metadata": {},
   "source": [
    "## Get the Score of the final ensemble\n",
    "\n"
   ]
  },
  {
   "cell_type": "code",
   "execution_count": 7,
   "metadata": {},
   "outputs": [
    {
     "name": "stdout",
     "output_type": "stream",
     "text": [
      "Accuracy score: 0.951048951048951\n"
     ]
    }
   ],
   "source": [
    "predictions = automl.predict(X_test)\n",
    "print(\"Accuracy score:\", sklearn.metrics.accuracy_score(y_test, predictions))"
   ]
  }
 ],
 "metadata": {
  "kernelspec": {
   "display_name": "Python 3",
   "language": "python",
   "name": "python3"
  },
  "language_info": {
   "codemirror_mode": {
    "name": "ipython",
    "version": 3
   },
   "file_extension": ".py",
   "mimetype": "text/x-python",
   "name": "python",
   "nbconvert_exporter": "python",
   "pygments_lexer": "ipython3",
   "version": "3.9.2"
  }
 },
 "nbformat": 4,
 "nbformat_minor": 1
}
