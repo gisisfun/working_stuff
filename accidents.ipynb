{
 "cells": [
  {
   "cell_type": "code",
   "execution_count": 35,
   "id": "social-girlfriend",
   "metadata": {},
   "outputs": [],
   "source": [
    "import pandas as pd"
   ]
  },
  {
   "cell_type": "code",
   "execution_count": 46,
   "id": "subtle-classroom",
   "metadata": {},
   "outputs": [
    {
     "data": {
      "text/plain": [
       "accident_year                                 int64\n",
       "first_road_number                             int64\n",
       "second_road_number                            int64\n",
       "latitude                                    float64\n",
       "longitude                                   float64\n",
       "accident_severity                          category\n",
       "number_of_vehicles                         category\n",
       "number_of_casualties                       category\n",
       "day_of_week                                category\n",
       "first_road_class                           category\n",
       "road_type                                  category\n",
       "speed_limit                                category\n",
       "junction_detail                            category\n",
       "junction_control                           category\n",
       "second_road_class                          category\n",
       "pedestrian_crossing_human_control          category\n",
       "pedestrian_crossing_physical_facilities    category\n",
       "light_conditions                           category\n",
       "weather_conditions                         category\n",
       "road_surface_conditions                    category\n",
       "special_conditions_at_site                 category\n",
       "carriageway_hazards                        category\n",
       "urban_or_rural_area                        category\n",
       "dtype: object"
      ]
     },
     "execution_count": 46,
     "metadata": {},
     "output_type": "execute_result"
    }
   ],
   "source": [
    "accidents = pd.read_csv(r'./data/accident-data.csv')\n",
    "accidents.head().transpose()\n",
    "#accidents.describe().transpose()\n",
    "accidents.dtypes\n",
    "#dummy_accidents = pd.get_dummies(\n",
    "filt_cols = accidents.select_dtypes('int64').max() < 100\n",
    "filt_cols = filt_cols.to_frame(name='status').reset_index()\n",
    "cat_cols = filt_cols[filt_cols['status']]['index'].values\n",
    "num_cols = filt_cols[~filt_cols['status']]['index'].values\n",
    "cat_cols\n",
    "num_cols\n",
    "\n",
    "cat_data = accidents[cat_cols].astype('category')\n",
    "num_data = accidents[num_cols]\n",
    "data = pd.concat([num_data,accidents[['latitude','longitude']],cat_data],axis=1)\n",
    "data.dtypes\n",
    "#[ i for i in num_or_cat_cols if i == True]\n",
    "#)"
   ]
  },
  {
   "cell_type": "code",
   "execution_count": null,
   "id": "worldwide-organic",
   "metadata": {},
   "outputs": [],
   "source": []
  },
  {
   "cell_type": "code",
   "execution_count": null,
   "id": "genetic-tension",
   "metadata": {},
   "outputs": [],
   "source": []
  },
  {
   "cell_type": "code",
   "execution_count": 149,
   "id": "amended-flooring",
   "metadata": {},
   "outputs": [
    {
     "name": "stdout",
     "output_type": "stream",
     "text": [
      "accident_severity\n",
      "number_of_vehicles\n",
      "number_of_casualties\n",
      "day_of_week\n",
      "first_road_class\n",
      "road_type\n",
      "speed_limit\n",
      "junction_detail\n",
      "junction_control\n",
      "second_road_class\n",
      "pedestrian_crossing_human_control\n",
      "pedestrian_crossing_physical_facilities\n",
      "light_conditions\n",
      "weather_conditions\n",
      "road_surface_conditions\n",
      "special_conditions_at_site\n",
      "carriageway_hazards\n",
      "urban_or_rural_area\n"
     ]
    },
    {
     "name": "stderr",
     "output_type": "stream",
     "text": [
      "<ipython-input-149-bb5188cce1f9>:6: FutureWarning: Passing a negative integer is deprecated in version 1.0 and will not be supported in future version. Instead, use None to not limit the column width.\n",
      "  pd.set_option('display.max_colwidth', -1)\n"
     ]
    },
    {
     "data": {
      "text/plain": [
       "array([['1', 'Fatal'],\n",
       "       ['2', 'Serious'],\n",
       "       ['3', 'Slight']], dtype=object)"
      ]
     },
     "execution_count": 149,
     "metadata": {},
     "output_type": "execute_result"
    }
   ],
   "source": [
    "\n",
    "\n",
    "pd.set_option('display.max_rows', None)\n",
    "pd.set_option('display.max_columns', None)\n",
    "pd.set_option('display.width', None)\n",
    "pd.set_option('display.max_colwidth', -1)\n",
    "lookup = pd.read_csv(r'./data/road-safety-lookups.csv')\n",
    "#lookup['label'] = \n",
    "no_nans = lookup[(lookup['field name'].isin(cat_cols)) & (~lookup['code/format'].isna())]\n",
    "pre_dict = no_nans[['field name','code/format','label']]\n",
    "\n",
    "my_dict = {}\n",
    "for i in cat_cols:\n",
    "    print(i)\n",
    "    my_dict[i] = pre_dict[pre_dict['field name'] == i][['code/format','label']].values\n",
    "my_dict['accident_severity']\n",
    "#{outer_k: {inner_k: myfunc(inner_v) for inner_k, inner_v in outer_v.items()} for outer_k, outer_v in outer_dict.items()}#no_nans = no_nans[~no_nans['label'].isna()]\n",
    "#lookup[lookup['label'] != 'NaN']#['field name','code/format','label']"
   ]
  },
  {
   "cell_type": "code",
   "execution_count": null,
   "id": "minor-alexander",
   "metadata": {},
   "outputs": [],
   "source": []
  }
 ],
 "metadata": {
  "kernelspec": {
   "display_name": "Python 3",
   "language": "python",
   "name": "python3"
  },
  "language_info": {
   "codemirror_mode": {
    "name": "ipython",
    "version": 3
   },
   "file_extension": ".py",
   "mimetype": "text/x-python",
   "name": "python",
   "nbconvert_exporter": "python",
   "pygments_lexer": "ipython3",
   "version": "3.9.2"
  }
 },
 "nbformat": 4,
 "nbformat_minor": 5
}
